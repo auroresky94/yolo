{
 "cells": [
  {
   "cell_type": "code",
   "execution_count": 4,
   "metadata": {},
   "outputs": [
    {
     "name": "stdout",
     "output_type": "stream",
     "text": [
      "Namespace(agnostic_nms=False, augment=False, classes=None, conf_thres=0.4, device='', img_size=416, iou_thres=0.5, output='inference/output', save_txt=False, source='C:\\\\yolo\\\\1.v3-2.yolov5pytorch\\\\test\\\\images', update=False, view_img=False, weights=['C:\\\\yolo\\\\yolov5\\\\runs\\\\exp5_results\\\\weights\\\\best.pt'])"
     ]
    },
    {
     "name": "stderr",
     "output_type": "stream",
     "text": [
      "Using CPU\n",
      "\n",
      "Model Summary: 335 layers, 4.74095e+07 parameters, 0 gradients\n"
     ]
    },
    {
     "name": "stdout",
     "output_type": "stream",
     "text": [
      "\n",
      "Fusing layers... \n",
      "image 1/26 C:\\yolo\\1.v3-2.yolov5pytorch\\test\\images\\2_104449_11_33_png.rf.791309e500ca8055d193f2dfd4e5fe70.jpg: 352x416 Done. (1.188s)\n",
      "image 2/26 C:\\yolo\\1.v3-2.yolov5pytorch\\test\\images\\2_104449_11_61_png.rf.a0b50484be93232638f89d9f176df32c.jpg: 352x416 Done. (1.256s)\n",
      "image 3/26 C:\\yolo\\1.v3-2.yolov5pytorch\\test\\images\\2_104449_11_63_png.rf.eaac19343d00fcf3ca9b1817b09dadde.jpg: 352x416 Done. (1.468s)\n",
      "image 4/26 C:\\yolo\\1.v3-2.yolov5pytorch\\test\\images\\2_112206_11_21_png.rf.121fb20d1b4940d640991defff5c48c5.jpg: 352x416 Done. (1.484s)\n",
      "image 5/26 C:\\yolo\\1.v3-2.yolov5pytorch\\test\\images\\2_112206_11_64_png.rf.7ef961249a0a94924549579ecb94d5a7.jpg: 352x416 Done. (1.001s)\n",
      "image 6/26 C:\\yolo\\1.v3-2.yolov5pytorch\\test\\images\\2_113949_11_11_png.rf.2b6273f93d0ae0b207276ff2e82202be.jpg: 352x416 Done. (1.171s)\n",
      "image 7/26 C:\\yolo\\1.v3-2.yolov5pytorch\\test\\images\\2_113949_11_12_png.rf.f5463508f3dba0cec0e86d1038c5578a.jpg: 352x416 Done. (1.153s)\n",
      "image 8/26 C:\\yolo\\1.v3-2.yolov5pytorch\\test\\images\\2_113949_11_62_png.rf.3e92d13f303702c3e536da327ceb2018.jpg: 352x416 Done. (1.148s)\n",
      "image 9/26 C:\\yolo\\1.v3-2.yolov5pytorch\\test\\images\\2_123200_11_33_png.rf.7865bbc0d35a8fc697b683e9442aa0a3.jpg: 352x416 Done. (1.327s)\n",
      "image 10/26 C:\\yolo\\1.v3-2.yolov5pytorch\\test\\images\\2_124628_11_33_png.rf.252a4579ef8b2f00ce0b4b6814571e9f.jpg: 352x416 Done. (1.578s)\n",
      "image 11/26 C:\\yolo\\1.v3-2.yolov5pytorch\\test\\images\\2_130835_11_22_png.rf.4518b5d26ccaae655ef91c84dbee894f.jpg: 352x416 Done. (1.247s)\n",
      "image 12/26 C:\\yolo\\1.v3-2.yolov5pytorch\\test\\images\\2_130835_11_31_png.rf.1a91f0835623204d9fc17a756dc467e5.jpg: 352x416 Done. (1.100s)\n",
      "image 13/26 C:\\yolo\\1.v3-2.yolov5pytorch\\test\\images\\2_130835_11_33_png.rf.3dd0c2fdab1b8442e4cb67f3b45dff38.jpg: 352x416 Done. (1.183s)\n",
      "image 14/26 C:\\yolo\\1.v3-2.yolov5pytorch\\test\\images\\2_134208_11_32_png.rf.fcb08bdca3862b16e4b80442e2a081c3.jpg: 352x416 Done. (1.161s)\n",
      "image 15/26 C:\\yolo\\1.v3-2.yolov5pytorch\\test\\images\\2_135425_1_62_png.rf.38303c40082ce346a3a0f2569849b67c.jpg: 352x416 Done. (1.234s)\n",
      "image 16/26 C:\\yolo\\1.v3-2.yolov5pytorch\\test\\images\\2_140427_1_13_png.rf.26acac2cb3ca9a89996d6c3ba0e687c1.jpg: 352x416 Done. (1.448s)\n",
      "image 17/26 C:\\yolo\\1.v3-2.yolov5pytorch\\test\\images\\2_141920_1_12_png.rf.8dd205bee810778bf9515699500c9f50.jpg: 352x416 Done. (1.424s)\n",
      "image 18/26 C:\\yolo\\1.v3-2.yolov5pytorch\\test\\images\\2_143902_1_11_png.rf.339708e54009cecebbd692528b05cb5d.jpg: 352x416 Done. (1.075s)\n",
      "image 19/26 C:\\yolo\\1.v3-2.yolov5pytorch\\test\\images\\2_143902_1_63_png.rf.f9a82d5a58d2b979232bdd8f57966980.jpg: 352x416 Done. (1.128s)\n",
      "image 20/26 C:\\yolo\\1.v3-2.yolov5pytorch\\test\\images\\2_145031_1_11_png.rf.d5d3d7c4d508c1417e643d65a56ffd88.jpg: 352x416 Done. (1.170s)\n",
      "image 21/26 C:\\yolo\\1.v3-2.yolov5pytorch\\test\\images\\2_145031_1_33_png.rf.b27374ba1d555375ccde3a831d36239b.jpg: 352x416 Done. (1.191s)\n",
      "image 22/26 C:\\yolo\\1.v3-2.yolov5pytorch\\test\\images\\2_151107_1_11_png.rf.0ce724d287d3bd08befa38f0b964bb28.jpg: 352x416 Done. (1.322s)\n",
      "image 23/26 C:\\yolo\\1.v3-2.yolov5pytorch\\test\\images\\2_153926_1_32_png.rf.ff2f8c1779f3eba4755815b6e12f663d.jpg: 352x416 Done. (1.449s)\n",
      "image 24/26 C:\\yolo\\1.v3-2.yolov5pytorch\\test\\images\\2_160334_1_22_png.rf.aa2620fb2022b11206491d7aeb2793af.jpg: 352x416 Done. (0.882s)\n",
      "image 25/26 C:\\yolo\\1.v3-2.yolov5pytorch\\test\\images\\2_160334_1_62_png.rf.5ced449c8be3a4761da8b4996e83cc9d.jpg: 352x416 Done. (0.952s)\n",
      "image 26/26 C:\\yolo\\1.v3-2.yolov5pytorch\\test\\images\\2_161852_1_63_png.rf.80296d3d3680ded1f95ec0cec05a0e01.jpg: 352x416 Done. (0.998s)\n",
      "Results saved to inference\\output\n",
      "Done. (32.528s)\n"
     ]
    }
   ],
   "source": [
    "!python detect.py --weights C:\\yolo\\yolov5\\runs\\exp5_results\\weights\\best.pt --img 416 --conf 0.4 --source C:\\yolo\\1.v3-2.yolov5pytorch\\test\\images"
   ]
  },
  {
   "cell_type": "code",
   "execution_count": null,
   "metadata": {},
   "outputs": [],
   "source": []
  }
 ],
 "metadata": {
  "kernelspec": {
   "display_name": "yolo",
   "language": "python",
   "name": "yolo"
  },
  "language_info": {
   "codemirror_mode": {
    "name": "ipython",
    "version": 3
   },
   "file_extension": ".py",
   "mimetype": "text/x-python",
   "name": "python",
   "nbconvert_exporter": "python",
   "pygments_lexer": "ipython3",
   "version": "3.8.5"
  }
 },
 "nbformat": 4,
 "nbformat_minor": 4
}
